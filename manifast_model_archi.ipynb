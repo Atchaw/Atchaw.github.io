{
  "nbformat": 4,
  "nbformat_minor": 0,
  "metadata": {
    "accelerator": "GPU",
    "colab": {
      "name": "manifast_model_archi.ipynb",
      "provenance": [],
      "collapsed_sections": [],
      "authorship_tag": "ABX9TyOEsrmZNihql7A0UkazNep6",
      "include_colab_link": true
    },
    "kernelspec": {
      "display_name": "Python 3",
      "name": "python3"
    },
    "language_info": {
      "name": "python"
    }
  },
  "cells": [
    {
      "cell_type": "markdown",
      "metadata": {
        "id": "view-in-github",
        "colab_type": "text"
      },
      "source": [
        "<a href=\"https://colab.research.google.com/github/Atchaw/Atchaw.github.io/blob/main/manifast_model_archi.ipynb\" target=\"_parent\"><img src=\"https://colab.research.google.com/assets/colab-badge.svg\" alt=\"Open In Colab\"/></a>"
      ]
    },
    {
      "cell_type": "code",
      "metadata": {
        "colab": {
          "base_uri": "https://localhost:8080/"
        },
        "id": "bbpyDFytal15",
        "outputId": "e985903c-03c2-4cf8-fe02-14cd53b777b4"
      },
      "source": [
        "from google.colab import drive\n",
        "drive.mount('/content/drive', force_remount=True)"
      ],
      "execution_count": 1,
      "outputs": [
        {
          "output_type": "stream",
          "text": [
            "Mounted at /content/drive\n"
          ],
          "name": "stdout"
        }
      ]
    },
    {
      "cell_type": "code",
      "metadata": {
        "id": "QvgyiO3-ausD"
      },
      "source": [
        "!7z x \"/content/drive/MyDrive/Torrent/data_manifast_.7z\""
      ],
      "execution_count": null,
      "outputs": []
    },
    {
      "cell_type": "code",
      "metadata": {
        "id": "oRa4pBB9aw6Q"
      },
      "source": [
        "# importing the libraries\n",
        "import torch\n",
        "import torch.nn as nn\n",
        "import torch.optim as optim\n",
        "\n",
        "\n",
        "import torchvision.transforms as transforms\n",
        "import torchvision.datasets as datasets\n",
        "import torch.utils.data as data\n",
        "\n",
        "import matplotlib.pyplot as plt\n",
        "import numpy as np\n",
        "\n",
        "import time\n",
        "import csv"
      ],
      "execution_count": 7,
      "outputs": []
    },
    {
      "cell_type": "code",
      "metadata": {
        "id": "icAbToi0a4C0",
        "colab": {
          "base_uri": "https://localhost:8080/"
        },
        "outputId": "25048f46-af78-4459-9cad-acb854415ac5"
      },
      "source": [
        "# check if CUDA is available\n",
        "train_on_gpu = torch.cuda.is_available()\n",
        "\n",
        "if not train_on_gpu:\n",
        "    print('CUDA is not available.  Training on CPU ...')\n",
        "else:\n",
        "    print('CUDA is available!  Training on GPU ...')"
      ],
      "execution_count": 8,
      "outputs": [
        {
          "output_type": "stream",
          "text": [
            "CUDA is available!  Training on GPU ...\n"
          ],
          "name": "stdout"
        }
      ]
    },
    {
      "cell_type": "code",
      "metadata": {
        "id": "rFas6-yebKq5",
        "colab": {
          "base_uri": "https://localhost:8080/"
        },
        "outputId": "92c15d10-4faf-40a7-ad93-ea50547f27a8"
      },
      "source": [
        "num_worker = 0\n",
        "# how many samples per batch to load\n",
        "batch_size = 256\n",
        "#data directory\n",
        "data_dir = 'data_manifast'\n",
        "\n",
        "# convert data to a normalized torch.FloatTensor\n",
        "transform = transforms.Compose([\n",
        "    transforms.Resize((40,40)),\n",
        "    transforms.RandomHorizontalFlip(), # randomly flip and rotate\n",
        "    transforms.RandomRotation(10),\n",
        "    transforms.ToTensor(),\n",
        "    transforms.Normalize((0.5,0.5,0.5),(0.5,0.5,0.5))\n",
        "    #transforms.Normalize(mean=[0.485, 0.456, 0.406],std=[0.229, 0.224, 0.225])\n",
        "])\n",
        "\n",
        "#load data from file\n",
        "train_data = datasets.ImageFolder(data_dir + '/train', transform=transform)\n",
        "test_data = datasets.ImageFolder(data_dir + '/test', transform=transform)\n",
        "val_data = datasets.ImageFolder(data_dir + '/val', transform=transform)\n",
        "\n",
        "# prepare data loaders\n",
        "train_loader = data.DataLoader(train_data, batch_size=batch_size,num_workers=num_worker, shuffle=True)\n",
        "\n",
        "valid_loader = data.DataLoader(val_data, batch_size=batch_size,num_workers=num_worker)\n",
        "\n",
        "test_loader = data.DataLoader(test_data, batch_size=batch_size,num_workers=num_worker)\n",
        "\n",
        "# specify the image classes\n",
        "classes = ['Benign', 'Malware']\n",
        "\n",
        "# shape of training data\n",
        "dataiter = iter(train_loader)\n",
        "images, labels = dataiter.next()\n",
        "\n",
        "print(images.shape)\n",
        "print(labels.shape)"
      ],
      "execution_count": 42,
      "outputs": [
        {
          "output_type": "stream",
          "text": [
            "torch.Size([256, 3, 40, 40])\n",
            "torch.Size([256])\n"
          ],
          "name": "stdout"
        }
      ]
    },
    {
      "cell_type": "code",
      "metadata": {
        "id": "GL4yEox8bN5x",
        "colab": {
          "base_uri": "https://localhost:8080/"
        },
        "outputId": "b30f743a-285c-4ad6-9480-7f405778fd3b"
      },
      "source": [
        "# defining the model architecture\n",
        "class Net(nn.Module):   \n",
        "  def __init__(self):\n",
        "      super(Net, self).__init__()\n",
        "      \n",
        "      # Conv-Conv-Pool-Conv-Conv-Pool\n",
        "      self.cnn_layers = nn.Sequential(\n",
        "          # Defining a 2D convolution layer \n",
        "          nn.Conv2d(3, 8, kernel_size=3, stride=1, padding=1),\n",
        "          nn.BatchNorm2d(8),\n",
        "          nn.ReLU(inplace=True),\n",
        "          nn.MaxPool2d(kernel_size=2, stride=2),\n",
        "\n",
        "          # Defining a 2D convolution layer \n",
        "          nn.Conv2d(8, 16, kernel_size=3, stride=1, padding=1),\n",
        "          nn.BatchNorm2d(16),\n",
        "          nn.ReLU(inplace=True),\n",
        "          nn.MaxPool2d(kernel_size=2, stride=2),\n",
        "\n",
        "\n",
        "          # Defining a 2D convolution layer \n",
        "          nn.Conv2d(16, 32, kernel_size=3, stride=1, padding=1),\n",
        "          nn.BatchNorm2d(32),\n",
        "          nn.ReLU(inplace=True),\n",
        "          nn.MaxPool2d(kernel_size=2, stride=2),\n",
        "\n",
        "          #Defining a Dropout\n",
        "          nn.Dropout(0.5),\n",
        "      )\n",
        "\n",
        "      self.linear_layers = nn.Sequential(\n",
        "          # Defining a Linear layer \n",
        "          nn.Linear(5*5*32, 512),\n",
        "          nn.BatchNorm1d(512),\n",
        "          nn.ReLU(inplace=True),\n",
        "\n",
        "          #Defining a Dropout\n",
        "          nn.Dropout(0.5),\n",
        "\n",
        "          # Defining a Linear layer \n",
        "          nn.Linear(512, 256),\n",
        "          nn.BatchNorm1d(256),\n",
        "          nn.ReLU(inplace=True),\n",
        "\n",
        "          #Defining a Dropout\n",
        "          nn.Dropout(0.4),\n",
        "\n",
        "          # Defining another Linear layer \n",
        "          nn.Linear(256, 2),\n",
        "          nn.LogSoftmax(dim=1),\n",
        "      )\n",
        "\n",
        "  # Defining the forward pass    \n",
        "  def forward(self, x):\n",
        "      x = self.cnn_layers(x)\n",
        "      x = x.view(x.size(0), -1)\n",
        "      x = self.linear_layers(x)\n",
        "      return x\n",
        "      \n",
        "# create a complete CNN\n",
        "model = Net()\n",
        "print(model)\n",
        "\n",
        "# move tensors to GPU if CUDA is available\n",
        "if train_on_gpu:\n",
        "    model = model.cuda()"
      ],
      "execution_count": 91,
      "outputs": [
        {
          "output_type": "stream",
          "text": [
            "Net(\n",
            "  (cnn_layers): Sequential(\n",
            "    (0): Conv2d(3, 8, kernel_size=(3, 3), stride=(1, 1), padding=(1, 1))\n",
            "    (1): BatchNorm2d(8, eps=1e-05, momentum=0.1, affine=True, track_running_stats=True)\n",
            "    (2): ReLU(inplace=True)\n",
            "    (3): MaxPool2d(kernel_size=2, stride=2, padding=0, dilation=1, ceil_mode=False)\n",
            "    (4): Conv2d(8, 16, kernel_size=(3, 3), stride=(1, 1), padding=(1, 1))\n",
            "    (5): BatchNorm2d(16, eps=1e-05, momentum=0.1, affine=True, track_running_stats=True)\n",
            "    (6): ReLU(inplace=True)\n",
            "    (7): MaxPool2d(kernel_size=2, stride=2, padding=0, dilation=1, ceil_mode=False)\n",
            "    (8): Conv2d(16, 32, kernel_size=(3, 3), stride=(1, 1), padding=(1, 1))\n",
            "    (9): BatchNorm2d(32, eps=1e-05, momentum=0.1, affine=True, track_running_stats=True)\n",
            "    (10): ReLU(inplace=True)\n",
            "    (11): MaxPool2d(kernel_size=2, stride=2, padding=0, dilation=1, ceil_mode=False)\n",
            "    (12): Dropout(p=0.5, inplace=False)\n",
            "  )\n",
            "  (linear_layers): Sequential(\n",
            "    (0): Linear(in_features=800, out_features=512, bias=True)\n",
            "    (1): BatchNorm1d(512, eps=1e-05, momentum=0.1, affine=True, track_running_stats=True)\n",
            "    (2): ReLU(inplace=True)\n",
            "    (3): Dropout(p=0.5, inplace=False)\n",
            "    (4): Linear(in_features=512, out_features=256, bias=True)\n",
            "    (5): BatchNorm1d(256, eps=1e-05, momentum=0.1, affine=True, track_running_stats=True)\n",
            "    (6): ReLU(inplace=True)\n",
            "    (7): Dropout(p=0.4, inplace=False)\n",
            "    (8): Linear(in_features=256, out_features=2, bias=True)\n",
            "    (9): LogSoftmax(dim=1)\n",
            "  )\n",
            ")\n"
          ],
          "name": "stdout"
        }
      ]
    },
    {
      "cell_type": "code",
      "metadata": {
        "id": "BR_jR6FybTWA"
      },
      "source": [
        "# specify loss function (categorical cross-entropy)\n",
        "criterion = nn.NLLLoss()\n",
        "\n",
        "# specify optimizer\n",
        "optimizer = optim.Adam(model.parameters(), lr=0.0005, weight_decay=1e-6)\n",
        "\n",
        "# move criterion to GPU if CUDA is available\n",
        "if train_on_gpu:\n",
        "    criterion = criterion.cuda()"
      ],
      "execution_count": 92,
      "outputs": []
    },
    {
      "cell_type": "code",
      "metadata": {
        "id": "48qVKncXbXt0"
      },
      "source": [
        "#define a function to calculate the accuracy of our model\n",
        "def calculate_accuracy(y_pred, y):\n",
        "    top_pred = y_pred.argmax(1, keepdim = True)\n",
        "    correct = top_pred.eq(y.view_as(top_pred)).sum()\n",
        "    acc = correct.float() / y.shape[0]\n",
        "    return acc\n",
        "# function to tell us how long an epoch took.\n",
        "def epoch_time(start_time, end_time):\n",
        "    elapsed_time = end_time - start_time\n",
        "    elapsed_mins = int(elapsed_time / 60)\n",
        "    elapsed_secs = int(elapsed_time - (elapsed_mins * 60))\n",
        "    return elapsed_mins, elapsed_secs\n",
        "# function to tell us how long an epoch took.\n",
        "def total_time(start_time, end_time):\n",
        "    elapsed_time = end_time - start_time\n",
        "    elapsed_hours = int(elapsed_time / 3600)\n",
        "    elapsed_mins = int((elapsed_time - (elapsed_hours * 3600))/60)\n",
        "    elapsed_secs = int(elapsed_time - (elapsed_mins * 60))\n",
        "    return elapsed_hours, elapsed_mins, elapsed_secs"
      ],
      "execution_count": 68,
      "outputs": []
    },
    {
      "cell_type": "code",
      "metadata": {
        "id": "7MEE9I5BbaL1"
      },
      "source": [
        "#define our training loop.\n",
        "\n",
        "def train(model, iterator, optimizer, criterion):\n",
        "    \n",
        "    epoch_loss = 0\n",
        "    epoch_acc = 0\n",
        "\n",
        "    model.train()\n",
        "    \n",
        "    for (data, target) in iterator:\n",
        "        \n",
        "        # move tensors to GPU if CUDA is available\n",
        "        if train_on_gpu:\n",
        "            data, target = data.cuda(), target.cuda()\n",
        "        \n",
        "        # clear the gradients of all optimized variables\n",
        "        optimizer.zero_grad()\n",
        "        # forward pass: compute predicted outputs by passing inputs to the model\n",
        "        output = model(data)\n",
        "        # calculate the batch lossVal. Loss: 0.332 |  Val. Acc: 87.06%\n",
        "        loss = criterion(output, target)\n",
        "        # calculate accuracy\n",
        "        acc = calculate_accuracy(output, target)\n",
        "        # backward pass: compute gradient of the loss with respect to model parameters\n",
        "        loss.backward()\n",
        "        # perform a single optimization step (parameter update)\n",
        "        optimizer.step()\n",
        "        \n",
        "        # update training loss and train accuracy\n",
        "        epoch_loss += loss.item()\n",
        "        epoch_acc += acc.item()\n",
        "        \n",
        "    return epoch_loss / len(iterator), epoch_acc / len(iterator)"
      ],
      "execution_count": 15,
      "outputs": []
    },
    {
      "cell_type": "code",
      "metadata": {
        "id": "kfCAt0FObcyi"
      },
      "source": [
        "# The evaluation loop\n",
        "\n",
        "def evaluate(model, iterator, criterion):\n",
        "    \n",
        "    epoch_loss = 0\n",
        "    epoch_acc = 0\n",
        "    \n",
        "    model.eval()\n",
        "    \n",
        "    with torch.no_grad():\n",
        "        \n",
        "        for (data, target) in iterator:\n",
        "            # move tensors to GPU if CUDA is available\n",
        "            if train_on_gpu:\n",
        "              data, target = data.cuda(), target.cuda()\n",
        "\n",
        "            # forward pass: compute predicted outputs by passing inputs to the model\n",
        "            output = model(data)\n",
        "            # calculate the batch loss\n",
        "            loss = criterion(output, target)\n",
        "            # calculate accuracy\n",
        "            acc = calculate_accuracy(output, target)\n",
        "\n",
        "            # update evaluation loss and evaluation accuracy\n",
        "            epoch_loss += loss.item()\n",
        "            epoch_acc += acc.item()\n",
        "        \n",
        "    return epoch_loss / len(iterator), epoch_acc / len(iterator)"
      ],
      "execution_count": 16,
      "outputs": []
    },
    {
      "cell_type": "code",
      "metadata": {
        "id": "mTCZpUEk4S3A"
      },
      "source": [
        "# field names of the csv file \n",
        "fields = ['Epoch', 'Epoch Mins', 'Epoch secs', 'Train Loss', 'Val Loss', 'Train Acc', 'Val Acc']\n",
        "\n",
        "# name of csv file \n",
        "filename = \"training.csv\"\n",
        "# writing to csv file \n",
        "with open(filename, 'w') as csvfile: \n",
        "    # creating a csv writer object \n",
        "    csvwriter = csv.writer(csvfile)    \n",
        "    # writing the fields \n",
        "    csvwriter.writerow(fields)\n",
        "csvfile.close()"
      ],
      "execution_count": 93,
      "outputs": []
    },
    {
      "cell_type": "code",
      "metadata": {
        "id": "zQgeQkQAemZb",
        "colab": {
          "base_uri": "https://localhost:8080/"
        },
        "outputId": "bffca47f-5ce2-46cd-bb78-53114b3f8302"
      },
      "source": [
        "# number of epochs to train the model\n",
        "EPOCHS = 150\n",
        "\n",
        "train_losses, valid_losses, train_accs, valid_accs  = [], [], [], []\n",
        "\n",
        "# track change in validation loss\n",
        "best_valid_loss = float('inf')\n",
        "\n",
        "total_start_time = time.monotonic()\n",
        "for epoch in range(EPOCHS):\n",
        "    \n",
        "    start_time = time.monotonic()\n",
        "    \n",
        "    train_loss, train_acc = train(model, train_loader, optimizer, criterion)\n",
        "    valid_loss, valid_acc = evaluate(model, test_loader, criterion)\n",
        "    \n",
        "    if valid_loss < best_valid_loss:\n",
        "        best_valid_loss = valid_loss\n",
        "        torch.save(model.state_dict(), 'model.pt')\n",
        "        print('saved')\n",
        "    \n",
        "    end_time = time.monotonic()\n",
        "\n",
        "    epoch_mins, epoch_secs = epoch_time(start_time, end_time)\n",
        "    \n",
        "    train_losses.append(train_loss)\n",
        "    valid_losses.append(valid_loss)\n",
        "    train_accs.append(train_acc*100)\n",
        "    valid_accs.append(valid_acc*100)\n",
        "\n",
        "    print(f'Epoch: {epoch+1}/{EPOCHS} | Epoch Time: {epoch_mins}m {epoch_secs}s')\n",
        "    print(f'\\tTrain Loss: {train_loss:.3f} | Train Acc: {train_acc*100:.2f}%')\n",
        "    print(f'\\t Val. Loss: {valid_loss:.3f} |  Val. Acc: {valid_acc*100:.2f}%')\n",
        "\n",
        "    row = [epoch+1, epoch_mins, epoch_secs, train_loss, valid_loss, train_acc*100, valid_acc*100]\n",
        "        \n",
        "    # writing to csv file \n",
        "    with open(filename, 'a') as csvfile: \n",
        "        # creating a csv writer object \n",
        "        csvwriter = csv.writer(csvfile)\n",
        "        # writing the data row \n",
        "        csvwriter.writerow(row)\n",
        "    csvfile.close()\n",
        "  \n",
        "total_end_time = time.monotonic()"
      ],
      "execution_count": 101,
      "outputs": [
        {
          "output_type": "stream",
          "text": [
            "saved\n",
            "Epoch: 149/51 | Epoch Time: 0m 10s\n",
            "\tTrain Loss: 0.328 | Train Acc: 86.04%\n",
            "\t Val. Loss: 0.366 |  Val. Acc: 83.74%\n",
            "saved\n",
            "Epoch: 150/51 | Epoch Time: 0m 10s\n",
            "\tTrain Loss: 0.321 | Train Acc: 86.53%\n",
            "\t Val. Loss: 0.321 |  Val. Acc: 85.64%\n",
            "Epoch: 151/51 | Epoch Time: 0m 10s\n",
            "\tTrain Loss: 0.324 | Train Acc: 86.63%\n",
            "\t Val. Loss: 0.331 |  Val. Acc: 87.16%\n",
            "Epoch: 152/51 | Epoch Time: 0m 10s\n",
            "\tTrain Loss: 0.327 | Train Acc: 86.09%\n",
            "\t Val. Loss: 0.325 |  Val. Acc: 87.55%\n",
            "Epoch: 153/51 | Epoch Time: 0m 10s\n",
            "\tTrain Loss: 0.322 | Train Acc: 86.75%\n",
            "\t Val. Loss: 0.338 |  Val. Acc: 85.50%\n",
            "Epoch: 154/51 | Epoch Time: 0m 10s\n",
            "\tTrain Loss: 0.323 | Train Acc: 86.35%\n",
            "\t Val. Loss: 0.339 |  Val. Acc: 84.28%\n",
            "Epoch: 155/51 | Epoch Time: 0m 10s\n",
            "\tTrain Loss: 0.326 | Train Acc: 86.23%\n",
            "\t Val. Loss: 0.328 |  Val. Acc: 87.01%\n",
            "Epoch: 156/51 | Epoch Time: 0m 10s\n",
            "\tTrain Loss: 0.325 | Train Acc: 86.69%\n",
            "\t Val. Loss: 0.384 |  Val. Acc: 82.62%\n",
            "Epoch: 157/51 | Epoch Time: 0m 10s\n",
            "\tTrain Loss: 0.323 | Train Acc: 86.31%\n",
            "\t Val. Loss: 0.372 |  Val. Acc: 81.74%\n",
            "Epoch: 158/51 | Epoch Time: 0m 10s\n",
            "\tTrain Loss: 0.321 | Train Acc: 86.39%\n",
            "\t Val. Loss: 0.341 |  Val. Acc: 85.64%\n",
            "saved\n",
            "Epoch: 159/51 | Epoch Time: 0m 10s\n",
            "\tTrain Loss: 0.323 | Train Acc: 86.14%\n",
            "\t Val. Loss: 0.319 |  Val. Acc: 86.96%\n",
            "Epoch: 160/51 | Epoch Time: 0m 10s\n",
            "\tTrain Loss: 0.318 | Train Acc: 86.71%\n",
            "\t Val. Loss: 0.322 |  Val. Acc: 86.08%\n",
            "saved\n",
            "Epoch: 161/51 | Epoch Time: 0m 10s\n",
            "\tTrain Loss: 0.319 | Train Acc: 86.33%\n",
            "\t Val. Loss: 0.317 |  Val. Acc: 87.50%\n",
            "Epoch: 162/51 | Epoch Time: 0m 10s\n",
            "\tTrain Loss: 0.324 | Train Acc: 86.17%\n",
            "\t Val. Loss: 0.359 |  Val. Acc: 85.55%\n",
            "Epoch: 163/51 | Epoch Time: 0m 10s\n",
            "\tTrain Loss: 0.323 | Train Acc: 86.52%\n",
            "\t Val. Loss: 0.376 |  Val. Acc: 82.81%\n",
            "Epoch: 164/51 | Epoch Time: 0m 10s\n",
            "\tTrain Loss: 0.322 | Train Acc: 86.56%\n",
            "\t Val. Loss: 0.323 |  Val. Acc: 86.52%\n",
            "Epoch: 165/51 | Epoch Time: 0m 10s\n",
            "\tTrain Loss: 0.321 | Train Acc: 86.68%\n",
            "\t Val. Loss: 0.338 |  Val. Acc: 85.99%\n",
            "Epoch: 166/51 | Epoch Time: 0m 10s\n",
            "\tTrain Loss: 0.322 | Train Acc: 86.52%\n",
            "\t Val. Loss: 0.350 |  Val. Acc: 85.74%\n",
            "Epoch: 167/51 | Epoch Time: 0m 10s\n",
            "\tTrain Loss: 0.321 | Train Acc: 86.46%\n",
            "\t Val. Loss: 0.326 |  Val. Acc: 86.28%\n",
            "Epoch: 168/51 | Epoch Time: 0m 10s\n",
            "\tTrain Loss: 0.317 | Train Acc: 86.72%\n",
            "\t Val. Loss: 0.336 |  Val. Acc: 86.47%\n",
            "Epoch: 169/51 | Epoch Time: 0m 10s\n",
            "\tTrain Loss: 0.315 | Train Acc: 86.86%\n",
            "\t Val. Loss: 0.335 |  Val. Acc: 85.35%\n",
            "Epoch: 170/51 | Epoch Time: 0m 10s\n",
            "\tTrain Loss: 0.323 | Train Acc: 86.33%\n",
            "\t Val. Loss: 0.331 |  Val. Acc: 86.67%\n",
            "Epoch: 171/51 | Epoch Time: 0m 10s\n",
            "\tTrain Loss: 0.317 | Train Acc: 86.73%\n",
            "\t Val. Loss: 0.319 |  Val. Acc: 87.21%\n",
            "saved\n",
            "Epoch: 172/51 | Epoch Time: 0m 10s\n",
            "\tTrain Loss: 0.315 | Train Acc: 87.08%\n",
            "\t Val. Loss: 0.314 |  Val. Acc: 87.50%\n",
            "Epoch: 173/51 | Epoch Time: 0m 10s\n",
            "\tTrain Loss: 0.315 | Train Acc: 86.94%\n",
            "\t Val. Loss: 0.336 |  Val. Acc: 87.16%\n",
            "Epoch: 174/51 | Epoch Time: 0m 10s\n",
            "\tTrain Loss: 0.317 | Train Acc: 86.57%\n",
            "\t Val. Loss: 0.323 |  Val. Acc: 87.55%\n",
            "Epoch: 175/51 | Epoch Time: 0m 10s\n",
            "\tTrain Loss: 0.311 | Train Acc: 87.17%\n",
            "\t Val. Loss: 0.326 |  Val. Acc: 86.08%\n",
            "Epoch: 176/51 | Epoch Time: 0m 10s\n",
            "\tTrain Loss: 0.319 | Train Acc: 86.38%\n",
            "\t Val. Loss: 0.343 |  Val. Acc: 86.57%\n",
            "Epoch: 177/51 | Epoch Time: 0m 10s\n",
            "\tTrain Loss: 0.317 | Train Acc: 86.62%\n",
            "\t Val. Loss: 0.318 |  Val. Acc: 87.16%\n",
            "Epoch: 178/51 | Epoch Time: 0m 10s\n",
            "\tTrain Loss: 0.313 | Train Acc: 86.79%\n",
            "\t Val. Loss: 0.354 |  Val. Acc: 84.77%\n",
            "Epoch: 179/51 | Epoch Time: 0m 10s\n",
            "\tTrain Loss: 0.314 | Train Acc: 86.57%\n",
            "\t Val. Loss: 0.333 |  Val. Acc: 85.99%\n",
            "Epoch: 180/51 | Epoch Time: 0m 10s\n",
            "\tTrain Loss: 0.312 | Train Acc: 86.90%\n",
            "\t Val. Loss: 0.331 |  Val. Acc: 86.52%\n",
            "Epoch: 181/51 | Epoch Time: 0m 10s\n",
            "\tTrain Loss: 0.317 | Train Acc: 86.76%\n",
            "\t Val. Loss: 0.321 |  Val. Acc: 86.77%\n",
            "Epoch: 182/51 | Epoch Time: 0m 10s\n",
            "\tTrain Loss: 0.312 | Train Acc: 87.24%\n",
            "\t Val. Loss: 0.346 |  Val. Acc: 85.06%\n",
            "Epoch: 183/51 | Epoch Time: 0m 10s\n",
            "\tTrain Loss: 0.317 | Train Acc: 86.90%\n",
            "\t Val. Loss: 0.315 |  Val. Acc: 87.55%\n",
            "Epoch: 184/51 | Epoch Time: 0m 10s\n",
            "\tTrain Loss: 0.310 | Train Acc: 86.97%\n",
            "\t Val. Loss: 0.318 |  Val. Acc: 87.26%\n",
            "Epoch: 185/51 | Epoch Time: 0m 10s\n",
            "\tTrain Loss: 0.311 | Train Acc: 87.20%\n",
            "\t Val. Loss: 0.371 |  Val. Acc: 83.79%\n",
            "Epoch: 186/51 | Epoch Time: 0m 10s\n",
            "\tTrain Loss: 0.316 | Train Acc: 86.94%\n",
            "\t Val. Loss: 0.332 |  Val. Acc: 85.60%\n",
            "Epoch: 187/51 | Epoch Time: 0m 10s\n",
            "\tTrain Loss: 0.312 | Train Acc: 86.84%\n",
            "\t Val. Loss: 0.336 |  Val. Acc: 86.72%\n",
            "Epoch: 188/51 | Epoch Time: 0m 10s\n",
            "\tTrain Loss: 0.310 | Train Acc: 87.27%\n",
            "\t Val. Loss: 0.331 |  Val. Acc: 86.52%\n",
            "Epoch: 189/51 | Epoch Time: 0m 10s\n",
            "\tTrain Loss: 0.312 | Train Acc: 86.87%\n",
            "\t Val. Loss: 0.314 |  Val. Acc: 87.30%\n",
            "Epoch: 190/51 | Epoch Time: 0m 10s\n",
            "\tTrain Loss: 0.305 | Train Acc: 87.31%\n",
            "\t Val. Loss: 0.344 |  Val. Acc: 86.96%\n",
            "Epoch: 191/51 | Epoch Time: 0m 10s\n",
            "\tTrain Loss: 0.309 | Train Acc: 87.21%\n",
            "\t Val. Loss: 0.335 |  Val. Acc: 87.30%\n",
            "Epoch: 192/51 | Epoch Time: 0m 10s\n",
            "\tTrain Loss: 0.312 | Train Acc: 86.90%\n",
            "\t Val. Loss: 0.321 |  Val. Acc: 86.38%\n",
            "Epoch: 193/51 | Epoch Time: 0m 10s\n",
            "\tTrain Loss: 0.312 | Train Acc: 86.88%\n",
            "\t Val. Loss: 0.332 |  Val. Acc: 85.40%\n",
            "Epoch: 194/51 | Epoch Time: 0m 10s\n",
            "\tTrain Loss: 0.314 | Train Acc: 86.83%\n",
            "\t Val. Loss: 0.318 |  Val. Acc: 87.26%\n",
            "Epoch: 195/51 | Epoch Time: 0m 10s\n",
            "\tTrain Loss: 0.312 | Train Acc: 86.89%\n",
            "\t Val. Loss: 0.314 |  Val. Acc: 87.50%\n",
            "Epoch: 196/51 | Epoch Time: 0m 10s\n",
            "\tTrain Loss: 0.312 | Train Acc: 86.93%\n",
            "\t Val. Loss: 0.333 |  Val. Acc: 85.99%\n",
            "Epoch: 197/51 | Epoch Time: 0m 10s\n",
            "\tTrain Loss: 0.315 | Train Acc: 86.60%\n",
            "\t Val. Loss: 0.319 |  Val. Acc: 87.21%\n",
            "Epoch: 198/51 | Epoch Time: 0m 10s\n",
            "\tTrain Loss: 0.311 | Train Acc: 86.88%\n",
            "\t Val. Loss: 0.350 |  Val. Acc: 85.45%\n",
            "Epoch: 199/51 | Epoch Time: 0m 10s\n",
            "\tTrain Loss: 0.307 | Train Acc: 86.95%\n",
            "\t Val. Loss: 0.371 |  Val. Acc: 84.91%\n"
          ],
          "name": "stdout"
        }
      ]
    },
    {
      "cell_type": "code",
      "metadata": {
        "id": "l8THpq_IbmmZ",
        "colab": {
          "base_uri": "https://localhost:8080/"
        },
        "outputId": "c1db3745-7425-4860-92c4-a000f1cb8f4f"
      },
      "source": [
        "total_hours, total_mins, total_secs = total_time(total_start_time, total_end_time)\n",
        "print(f'Total Time: {total_hours}h {total_mins}m {total_secs}s')"
      ],
      "execution_count": 102,
      "outputs": [
        {
          "output_type": "stream",
          "text": [
            "Total Time: 0h 9m 1s\n"
          ],
          "name": "stdout"
        }
      ]
    },
    {
      "cell_type": "code",
      "metadata": {
        "id": "wXOiF79AbuOb"
      },
      "source": [
        "model.load_state_dict(torch.load('model.pt'))\n",
        "\n",
        "test_start_time = time.monotonic()\n",
        "test_loss, test_acc = evaluate(model, test_loader, criterion)\n",
        "test_end_time = time.monotonic()\n",
        "\n",
        "test_mins, test_secs = epoch_time(test_start_time, test_end_time)"
      ],
      "execution_count": 108,
      "outputs": []
    },
    {
      "cell_type": "code",
      "metadata": {
        "id": "XQMp-OBLbw6z",
        "colab": {
          "base_uri": "https://localhost:8080/"
        },
        "outputId": "30de3c45-6b84-4bee-afea-27d594be617e"
      },
      "source": [
        "# field names \n",
        "fields = ['Test set size', 'Test Mins', 'Test secs', 'Test Loss', 'Test Acc', 'Total Hours', 'Total Mins', 'Total Secs']\n",
        "# name of csv file \n",
        "filename = \"test.csv\"\n",
        "    \n",
        "# writing to csv file \n",
        "with open(filename, 'w') as csvfile: \n",
        "    # creating a csv writer object \n",
        "    csvwriter = csv.writer(csvfile) \n",
        "        \n",
        "    # writing the fields \n",
        "    csvwriter.writerow(fields)\n",
        "    row = [len(test_loader.dataset), test_mins, test_secs, test_loss, test_acc, total_hours, total_mins, total_secs]\n",
        "    # writing the data rows \n",
        "    csvwriter.writerow(row)\n",
        "csvfile.close()\n",
        "print(f'Test set size: {len(test_loader.dataset)} | Test Time: {test_mins}m {test_secs}s')\n",
        "print(f'Test Loss: {test_loss:.3f} | Test Acc: {test_acc*100:.2f}%')"
      ],
      "execution_count": 109,
      "outputs": [
        {
          "output_type": "stream",
          "text": [
            "Test set size: 1800 | Test Time: 0m 1s\n",
            "Test Loss: 0.317 | Test Acc: 86.33%\n"
          ],
          "name": "stdout"
        }
      ]
    },
    {
      "cell_type": "code",
      "metadata": {
        "id": "HcLCTsEObz_o",
        "colab": {
          "base_uri": "https://localhost:8080/",
          "height": 282
        },
        "outputId": "c14d862a-9ee6-42db-d47f-048e094df5dd"
      },
      "source": [
        "%matplotlib inline\n",
        "%config InlineBackend.figure_format = 'retina'\n",
        "\n",
        "plt.plot(train_losses, label='Training loss')\n",
        "plt.plot(valid_losses, label='Validation loss')\n",
        "plt.legend(frameon=False)"
      ],
      "execution_count": 105,
      "outputs": [
        {
          "output_type": "execute_result",
          "data": {
            "text/plain": [
              "<matplotlib.legend.Legend at 0x7f4f3d190e10>"
            ]
          },
          "metadata": {
            "tags": []
          },
          "execution_count": 105
        },
        {
          "output_type": "display_data",
          "data": {
            "image/png": "[encoded data removed]",
            "text/plain": [
              "<Figure size 432x288 with 1 Axes>"
            ]
          },
          "metadata": {
            "tags": [],
            "image/png": {
              "width": 378,
              "height": 248
            },
            "needs_background": "light"
          }
        }
      ]
    },
    {
      "cell_type": "code",
      "metadata": {
        "id": "yBdFwYCIb3F_",
        "colab": {
          "base_uri": "https://localhost:8080/",
          "height": 282
        },
        "outputId": "ad6f5174-f645-4334-e602-549f12ce67cb"
      },
      "source": [
        "%matplotlib inline\n",
        "%config InlineBackend.figure_format = 'retina'\n",
        "\n",
        "plt.plot(train_accs, label='Training acc')\n",
        "plt.plot(valid_accs, label='Validation acc')\n",
        "plt.legend(frameon=False)"
      ],
      "execution_count": 106,
      "outputs": [
        {
          "output_type": "execute_result",
          "data": {
            "text/plain": [
              "<matplotlib.legend.Legend at 0x7f4f3d11dbd0>"
            ]
          },
          "metadata": {
            "tags": []
          },
          "execution_count": 106
        },
        {
          "output_type": "display_data",
          "data": {
            "image/png": "[encoded data removed]",
            "text/plain": [
              "<Figure size 432x288 with 1 Axes>"
            ]
          },
          "metadata": {
            "tags": [],
            "image/png": {
              "width": 369,
              "height": 248
            },
            "needs_background": "light"
          }
        }
      ]
    },
    {
      "cell_type": "code",
      "metadata": {
        "id": "jeJmrlljDCkj",
        "colab": {
          "base_uri": "https://localhost:8080/",
          "height": 17
        },
        "outputId": "51d758a3-c834-4af3-8672-13a011c0a637"
      },
      "source": [
        "from google.colab import files\n",
        "files.download('model.pt')\n",
        "files.download('training.csv')\n",
        "files.download('test.csv')"
      ],
      "execution_count": 80,
      "outputs": [
        {
          "output_type": "display_data",
          "data": {
            "application/javascript": [
              "\n",
              "    async function download(id, filename, size) {\n",
              "      if (!google.colab.kernel.accessAllowed) {\n",
              "        return;\n",
              "      }\n",
              "      const div = document.createElement('div');\n",
              "      const label = document.createElement('label');\n",
              "      label.textContent = `Downloading \"${filename}\": `;\n",
              "      div.appendChild(label);\n",
              "      const progress = document.createElement('progress');\n",
              "      progress.max = size;\n",
              "      div.appendChild(progress);\n",
              "      document.body.appendChild(div);\n",
              "\n",
              "      const buffers = [];\n",
              "      let downloaded = 0;\n",
              "\n",
              "      const channel = await google.colab.kernel.comms.open(id);\n",
              "      // Send a message to notify the kernel that we're ready.\n",
              "      channel.send({})\n",
              "\n",
              "      for await (const message of channel.messages) {\n",
              "        // Send a message to notify the kernel that we're ready.\n",
              "        channel.send({})\n",
              "        if (message.buffers) {\n",
              "          for (const buffer of message.buffers) {\n",
              "            buffers.push(buffer);\n",
              "            downloaded += buffer.byteLength;\n",
              "            progress.value = downloaded;\n",
              "          }\n",
              "        }\n",
              "      }\n",
              "      const blob = new Blob(buffers, {type: 'application/binary'});\n",
              "      const a = document.createElement('a');\n",
              "      a.href = window.URL.createObjectURL(blob);\n",
              "      a.download = filename;\n",
              "      div.appendChild(a);\n",
              "      a.click();\n",
              "      div.remove();\n",
              "    }\n",
              "  "
            ],
            "text/plain": [
              "<IPython.core.display.Javascript object>"
            ]
          },
          "metadata": {
            "tags": []
          }
        },
        {
          "output_type": "display_data",
          "data": {
            "application/javascript": [
              "download(\"download_2293a34c-8095-4360-bf52-c614d4b1cbfd\", \"model.pt\", 4459132)"
            ],
            "text/plain": [
              "<IPython.core.display.Javascript object>"
            ]
          },
          "metadata": {
            "tags": []
          }
        },
        {
          "output_type": "display_data",
          "data": {
            "application/javascript": [
              "\n",
              "    async function download(id, filename, size) {\n",
              "      if (!google.colab.kernel.accessAllowed) {\n",
              "        return;\n",
              "      }\n",
              "      const div = document.createElement('div');\n",
              "      const label = document.createElement('label');\n",
              "      label.textContent = `Downloading \"${filename}\": `;\n",
              "      div.appendChild(label);\n",
              "      const progress = document.createElement('progress');\n",
              "      progress.max = size;\n",
              "      div.appendChild(progress);\n",
              "      document.body.appendChild(div);\n",
              "\n",
              "      const buffers = [];\n",
              "      let downloaded = 0;\n",
              "\n",
              "      const channel = await google.colab.kernel.comms.open(id);\n",
              "      // Send a message to notify the kernel that we're ready.\n",
              "      channel.send({})\n",
              "\n",
              "      for await (const message of channel.messages) {\n",
              "        // Send a message to notify the kernel that we're ready.\n",
              "        channel.send({})\n",
              "        if (message.buffers) {\n",
              "          for (const buffer of message.buffers) {\n",
              "            buffers.push(buffer);\n",
              "            downloaded += buffer.byteLength;\n",
              "            progress.value = downloaded;\n",
              "          }\n",
              "        }\n",
              "      }\n",
              "      const blob = new Blob(buffers, {type: 'application/binary'});\n",
              "      const a = document.createElement('a');\n",
              "      a.href = window.URL.createObjectURL(blob);\n",
              "      a.download = filename;\n",
              "      div.appendChild(a);\n",
              "      a.click();\n",
              "      div.remove();\n",
              "    }\n",
              "  "
            ],
            "text/plain": [
              "<IPython.core.display.Javascript object>"
            ]
          },
          "metadata": {
            "tags": []
          }
        },
        {
          "output_type": "display_data",
          "data": {
            "application/javascript": [
              "download(\"download_8b0c720a-6633-4332-91ff-bbc714e3e916\", \"training.csv\", 7824)"
            ],
            "text/plain": [
              "<IPython.core.display.Javascript object>"
            ]
          },
          "metadata": {
            "tags": []
          }
        },
        {
          "output_type": "display_data",
          "data": {
            "application/javascript": [
              "\n",
              "    async function download(id, filename, size) {\n",
              "      if (!google.colab.kernel.accessAllowed) {\n",
              "        return;\n",
              "      }\n",
              "      const div = document.createElement('div');\n",
              "      const label = document.createElement('label');\n",
              "      label.textContent = `Downloading \"${filename}\": `;\n",
              "      div.appendChild(label);\n",
              "      const progress = document.createElement('progress');\n",
              "      progress.max = size;\n",
              "      div.appendChild(progress);\n",
              "      document.body.appendChild(div);\n",
              "\n",
              "      const buffers = [];\n",
              "      let downloaded = 0;\n",
              "\n",
              "      const channel = await google.colab.kernel.comms.open(id);\n",
              "      // Send a message to notify the kernel that we're ready.\n",
              "      channel.send({})\n",
              "\n",
              "      for await (const message of channel.messages) {\n",
              "        // Send a message to notify the kernel that we're ready.\n",
              "        channel.send({})\n",
              "        if (message.buffers) {\n",
              "          for (const buffer of message.buffers) {\n",
              "            buffers.push(buffer);\n",
              "            downloaded += buffer.byteLength;\n",
              "            progress.value = downloaded;\n",
              "          }\n",
              "        }\n",
              "      }\n",
              "      const blob = new Blob(buffers, {type: 'application/binary'});\n",
              "      const a = document.createElement('a');\n",
              "      a.href = window.URL.createObjectURL(blob);\n",
              "      a.download = filename;\n",
              "      div.appendChild(a);\n",
              "      a.click();\n",
              "      div.remove();\n",
              "    }\n",
              "  "
            ],
            "text/plain": [
              "<IPython.core.display.Javascript object>"
            ]
          },
          "metadata": {
            "tags": []
          }
        },
        {
          "output_type": "display_data",
          "data": {
            "application/javascript": [
              "download(\"download_977cbdea-e0cf-4704-8741-e4fc67ad7a47\", \"test.csv\", 139)"
            ],
            "text/plain": [
              "<IPython.core.display.Javascript object>"
            ]
          },
          "metadata": {
            "tags": []
          }
        }
      ]
    },
    {
      "cell_type": "code",
      "metadata": {
        "id": "sz6TJk4QE8_d",
        "colab": {
          "base_uri": "https://localhost:8080/"
        },
        "outputId": "8c4e68f3-11b7-447b-c466-1bf41f5accb9"
      },
      "source": [
        "model.load_state_dict(torch.load('model.pt'))\n",
        "# track test loss\n",
        "class_correct = list(0. for i in range(2))\n",
        "class_total = list(0. for i in range(2))\n",
        "\n",
        "model.eval()\n",
        "# iterate over test data\n",
        "for data, target in test_loader:\n",
        "    # move tensors to GPU if CUDA is available\n",
        "    if train_on_gpu:\n",
        "        data, target = data.cuda(), target.cuda()\n",
        "    # forward pass: compute predicted outputs by passing inputs to the model\n",
        "    output = model(data)\n",
        "    # calculate the batch loss\n",
        "    loss = criterion(output, target)\n",
        "    # update test loss \n",
        "    test_loss += loss.item()*data.size(0)\n",
        "    # convert output probabilities to predicted class\n",
        "    _, pred = torch.max(output, 1)    \n",
        "    # compare predictions to true label\n",
        "    correct_tensor = pred.eq(target.data.view_as(pred))\n",
        "    correct = np.squeeze(correct_tensor.numpy()) if not train_on_gpu else np.squeeze(correct_tensor.cpu().numpy())\n",
        "    # calculate test accuracy for each object class\n",
        "    \n",
        "    for i in range(len(data)):\n",
        "        label = target.data[i]\n",
        "        class_correct[label] += correct[i].item()\n",
        "        class_total[label] += 1\n",
        "\n",
        "\n",
        "# average test loss\n",
        "test_loss = test_loss/len(test_loader.dataset)\n",
        "print('Test Loss: {:.6f}\\n'.format(test_loss))\n",
        "\n",
        "for i in range(2):\n",
        "    if class_total[i] > 0:\n",
        "        print('Test Accuracy of %5s: %2d%% (%2d/%2d)' % (\n",
        "            classes[i], 100 * class_correct[i] / class_total[i],\n",
        "            np.sum(class_correct[i]), np.sum(class_total[i])))\n",
        "    else:\n",
        "        print('Test Accuracy of %5s: N/A (no training examples)' % (classes[i]))\n",
        "print('\\nTest Accuracy (Overall): %2d%% (%2d/%2d)' % (\n",
        "    100. * np.sum(class_correct) / np.sum(class_total),\n",
        "    np.sum(class_correct), np.sum(class_total)))\n",
        "\n",
        "TP = class_correct[1]\n",
        "TN = class_correct[0]\n",
        "FP = class_total[0] - class_correct[0] \n",
        "FN = class_total[1] - class_correct[1]\n",
        "ACC = (TP + TN)/(TP + TN + FP + FN)\n",
        "PPV = TP/(TP+FP)\n",
        "TPR = TP/(TP+FN)\n",
        "F1 = 2*(PPV*TPR)/(PPV+TPR)\n",
        "print(\"ACC = {:.4f}\".format(ACC))\n",
        "print(\"F1 = {:.4f}\".format(F1))\n",
        "print(\"PPV = {:.4f}\".format(PPV))\n",
        "print(\"TPR = {:.4f}\".format(TPR))"
      ],
      "execution_count": null,
      "outputs": [
        {
          "output_type": "stream",
          "text": [
            "Test Loss: 0.344130\n",
            "\n",
            "Test Accuracy of Benign: 87% (868/996)\n",
            "Test Accuracy of Malware: 83% (832/996)\n",
            "\n",
            "Test Accuracy (Overall): 85% (1700/1992)\n",
            "ACC = 0.8534\n",
            "F1 = 0.8507\n",
            "PPV = 0.8667\n",
            "TPR = 0.8353\n"
          ],
          "name": "stdout"
        }
      ]
    }
  ]
}